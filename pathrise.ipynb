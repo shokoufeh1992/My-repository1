{
 "cells": [
  {
   "cell_type": "code",
   "execution_count": 1,
   "metadata": {},
   "outputs": [],
   "source": [
    "import pandas as pd\n",
    "import numpy as np"
   ]
  },
  {
   "cell_type": "code",
   "execution_count": 2,
   "metadata": {},
   "outputs": [],
   "source": [
    "df_missing=pd.read_excel('Data_Pathrise.xlsx')"
   ]
  },
  {
   "cell_type": "code",
   "execution_count": null,
   "metadata": {},
   "outputs": [],
   "source": [
    "df_missing.info()"
   ]
  },
  {
   "cell_type": "code",
   "execution_count": null,
   "metadata": {},
   "outputs": [],
   "source": [
    "df_missing['cohort_tag'].value_counts()"
   ]
  },
  {
   "cell_type": "markdown",
   "metadata": {},
   "source": [
    "## drop the column which is not needed"
   ]
  },
  {
   "cell_type": "code",
   "execution_count": null,
   "metadata": {},
   "outputs": [],
   "source": [
    "df_missing=df_missing.drop(\"program_duration_days\",'number_of_interviews',axis=1)"
   ]
  },
  {
   "cell_type": "markdown",
   "metadata": {},
   "source": [
    "### replace categorical columns missing values with the most frequent value"
   ]
  },
  {
   "cell_type": "code",
   "execution_count": 6,
   "metadata": {},
   "outputs": [],
   "source": [
    "df_missing['cohort_tag']=df_missing['cohort_tag'].replace(np.nan, 'JAN19A')"
   ]
  },
  {
   "cell_type": "code",
   "execution_count": null,
   "metadata": {},
   "outputs": [],
   "source": [
    "df_missing.info()"
   ]
  },
  {
   "cell_type": "code",
   "execution_count": 8,
   "metadata": {},
   "outputs": [],
   "source": [
    "\n",
    "df_missing['highest_level_of_education'].value_counts()\n",
    "df_missing['highest_level_of_education']=df_missing['highest_level_of_education'].replace(np.nan, \"Bachelor's Degree\")"
   ]
  },
  {
   "cell_type": "code",
   "execution_count": 9,
   "metadata": {},
   "outputs": [],
   "source": [
    "df_missing['length_of_job_search'].value_counts()\n",
    "df_missing['length_of_job_search']=df_missing['length_of_job_search'].replace(np.nan, \"1-2 months\")"
   ]
  },
  {
   "cell_type": "code",
   "execution_count": 10,
   "metadata": {},
   "outputs": [
    {
     "data": {
      "text/plain": [
       "professional_experience\n",
       "1-2 years             882\n",
       "Less than one year    618\n",
       "3-4 years             558\n",
       "5+ years              264\n",
       "Name: count, dtype: int64"
      ]
     },
     "execution_count": 10,
     "metadata": {},
     "output_type": "execute_result"
    }
   ],
   "source": [
    "df_missing['professional_experience'].value_counts()"
   ]
  },
  {
   "cell_type": "code",
   "execution_count": 11,
   "metadata": {},
   "outputs": [],
   "source": [
    "df_missing['biggest_challenge_in_search']=df_missing['biggest_challenge_in_search'].replace(np.nan,\"Hearing back on my applications\")"
   ]
  },
  {
   "cell_type": "code",
   "execution_count": 52,
   "metadata": {},
   "outputs": [
    {
     "name": "stdout",
     "output_type": "stream",
     "text": [
      "<class 'pandas.core.frame.DataFrame'>\n",
      "RangeIndex: 2544 entries, 0 to 2543\n",
      "Data columns (total 14 columns):\n",
      " #   Column                       Non-Null Count  Dtype \n",
      "---  ------                       --------------  ----- \n",
      " 0   id                           2544 non-null   int64 \n",
      " 1   pathrise_status              2544 non-null   object\n",
      " 2   primary_track                2544 non-null   object\n",
      " 3   cohort_tag                   2544 non-null   object\n",
      " 4   placed                       2544 non-null   int64 \n",
      " 5   employment_status            2315 non-null   object\n",
      " 6   highest_level_of_education   2544 non-null   object\n",
      " 7   length_of_job_search         2544 non-null   object\n",
      " 8   biggest_challenge_in_search  2544 non-null   object\n",
      " 9   professional_experience      2322 non-null   object\n",
      " 10  work_authorization_status    2260 non-null   object\n",
      " 11  number_of_applications       2544 non-null   int64 \n",
      " 12  gender                       2052 non-null   object\n",
      " 13  race                         2526 non-null   object\n",
      "dtypes: int64(3), object(11)\n",
      "memory usage: 278.4+ KB\n"
     ]
    }
   ],
   "source": [
    "df_missing.info()"
   ]
  },
  {
   "cell_type": "code",
   "execution_count": 61,
   "metadata": {},
   "outputs": [],
   "source": [
    "df_dummy= pd.get_dummies(df_missing[['employment_status ','professional_experience','work_authorization_status','professional_experience','work_authorization_status','gender','race']]).astype(int)"
   ]
  },
  {
   "cell_type": "code",
   "execution_count": null,
   "metadata": {},
   "outputs": [],
   "source": [
    "df_missing=df_missing.drop([['employment_status ','professional_experience','work_authorization_status','professional_experience','work_authorization_status','gender','race']])"
   ]
  },
  {
   "cell_type": "code",
   "execution_count": null,
   "metadata": {},
   "outputs": [],
   "source": [
    "df = pd.concat([df_missing, df_dummy], axis=1)\n",
    "df"
   ]
  },
  {
   "cell_type": "markdown",
   "metadata": {},
   "source": [
    "dummy_1= pd.get_dummies(df_missing['employment_status ']).astype(int)\n",
    "dummy_2= pd.get_dummies(df_missing['professional_experience']).astype(int)\n",
    "dummy_3= pd.get_dummies(df_missing['work_authorization_status']).astype(int)\n",
    "dummy_4= pd.get_dummies(df_missing['professional_experience']).astype(int)\n",
    "dummy_5= pd.get_dummies(df_missing['work_authorization_status']).astype(int\n",
    "dummy_6= pd.get_dummies(df_missing['gender']).astype(int)\n",
    "dummy_7= pd.get_dummies(df_missing['race']).astype(int)"
   ]
  }
 ],
 "metadata": {
  "kernelspec": {
   "display_name": "Python 3",
   "language": "python",
   "name": "python3"
  },
  "language_info": {
   "codemirror_mode": {
    "name": "ipython",
    "version": 3
   },
   "file_extension": ".py",
   "mimetype": "text/x-python",
   "name": "python",
   "nbconvert_exporter": "python",
   "pygments_lexer": "ipython3",
   "version": "3.11.4"
  },
  "orig_nbformat": 4
 },
 "nbformat": 4,
 "nbformat_minor": 2
}
